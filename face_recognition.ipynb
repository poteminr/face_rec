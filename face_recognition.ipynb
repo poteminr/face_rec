{
 "cells": [
  {
   "cell_type": "code",
   "execution_count": 1,
   "metadata": {
    "scrolled": true
   },
   "outputs": [
    {
     "name": "stderr",
     "output_type": "stream",
     "text": [
      "Using TensorFlow backend.\n"
     ]
    }
   ],
   "source": [
    "from keras.layers import Conv2D, Conv2DTranspose, Flatten, Input, Dense, Reshape\n",
    "from keras.datasets import mnist\n",
    "from keras import Model\n",
    "import numpy as np\n",
    "import matplotlib.pyplot as plt \n",
    "import matplotlib.image as mpimg\n",
    "import glob\n",
    "%matplotlib inline"
   ]
  },
  {
   "cell_type": "markdown",
   "metadata": {},
   "source": [
    "# Train Data"
   ]
  },
  {
   "cell_type": "code",
   "execution_count": 4,
   "metadata": {},
   "outputs": [
    {
     "name": "stdout",
     "output_type": "stream",
     "text": [
      "Point 1\n",
      "Wall time: 2min 8s\n"
     ]
    }
   ],
   "source": [
    "%%time \n",
    "img_size = 64\n",
    "\n",
    "samples = glob.glob('./lfwcrop_grey/faces/*')\n",
    "data = []\n",
    "print('Point 1')\n",
    "for s in samples:\n",
    "    img = mpimg.imread(s)\n",
    "    data.append(np.expand_dims(img, 0))\n",
    "        \n",
    "# faces = np.concatenate(faces)"
   ]
  },
  {
   "cell_type": "code",
   "execution_count": 5,
   "metadata": {},
   "outputs": [],
   "source": [
    "faces = np.concatenate(data, axis=0)"
   ]
  },
  {
   "cell_type": "code",
   "execution_count": 6,
   "metadata": {},
   "outputs": [
    {
     "data": {
      "text/plain": [
       "(13233, 64, 64)"
      ]
     },
     "execution_count": 6,
     "metadata": {},
     "output_type": "execute_result"
    }
   ],
   "source": [
    "faces.shape"
   ]
  },
  {
   "cell_type": "code",
   "execution_count": 7,
   "metadata": {},
   "outputs": [],
   "source": [
    "faces = np.expand_dims(faces, -1)"
   ]
  },
  {
   "cell_type": "code",
   "execution_count": 8,
   "metadata": {},
   "outputs": [],
   "source": [
    "# prepare data\n",
    "faces = faces / 255."
   ]
  },
  {
   "cell_type": "code",
   "execution_count": 9,
   "metadata": {},
   "outputs": [
    {
     "data": {
      "text/plain": [
       "(13233, 64, 64, 1)"
      ]
     },
     "execution_count": 9,
     "metadata": {},
     "output_type": "execute_result"
    }
   ],
   "source": [
    "faces.shape"
   ]
  },
  {
   "cell_type": "markdown",
   "metadata": {},
   "source": [
    "#### Fit autoencoder"
   ]
  },
  {
   "cell_type": "code",
   "execution_count": 10,
   "metadata": {},
   "outputs": [],
   "source": [
    "# encoder\n",
    "input_ = Input((64, 64, 1)) # 64\n",
    "x = Conv2D(filters=8, kernel_size=2, strides=2, activation='relu')(input_) # 32\n",
    "x = Conv2D(filters=16, kernel_size=2, strides=2, activation='relu')(x) # 16\n",
    "x = Conv2D(filters=32, kernel_size=2, strides=2, activation='relu')(x) # 8\n",
    "x = Conv2D(filters=64, kernel_size=2, strides=2, activation='relu')(x) # 4\n",
    "x = Conv2D(filters=128, kernel_size=2, strides=2, activation='relu')(x) # 2\n",
    "flat = Flatten()(x)\n",
    "latent = Dense(128)(flat)\n",
    "\n",
    "# decoder\n",
    "reshape = Reshape((2,2,32)) #2\n",
    "conv_2t_1 = Conv2DTranspose(filters=128, kernel_size=2, strides=2, activation='relu') # 4\n",
    "conv_2t_2 = Conv2DTranspose(filters=64, kernel_size=2, strides=2, activation='relu') # 8\n",
    "conv_2t_3 = Conv2DTranspose(filters=32, kernel_size=2, strides=2, activation='relu') # 16\n",
    "conv_2t_4 = Conv2DTranspose(filters=16, kernel_size=2, strides=2, activation='relu') # 32\n",
    "conv_2t_5 = Conv2DTranspose(filters=1, kernel_size=2, strides=2, activation='sigmoid') # 64\n",
    "\n",
    "x = reshape(latent)\n",
    "x = conv_2t_1(x)\n",
    "x = conv_2t_2(x)\n",
    "x = conv_2t_3(x)\n",
    "x = conv_2t_4(x)\n",
    "decoded = conv_2t_5(x) # 64\n",
    "\n",
    "autoencoder = Model(input_, decoded)\n",
    "encoder = Model(input_, latent)\n",
    "\n",
    "decoder_input = Input((128,))\n",
    "x_ = reshape(decoder_input)\n",
    "x_ = conv_2t_1(x_)\n",
    "x_ = conv_2t_2(x_)\n",
    "x_ = conv_2t_3(x_)\n",
    "x_ = conv_2t_4(x_)\n",
    "decoded_ = conv_2t_5(x_) # 64\n",
    "decoder = Model(decoder_input, decoded_)"
   ]
  },
  {
   "cell_type": "code",
   "execution_count": 11,
   "metadata": {},
   "outputs": [
    {
     "name": "stdout",
     "output_type": "stream",
     "text": [
      "_________________________________________________________________\n",
      "Layer (type)                 Output Shape              Param #   \n",
      "=================================================================\n",
      "input_1 (InputLayer)         (None, 64, 64, 1)         0         \n",
      "_________________________________________________________________\n",
      "conv2d_1 (Conv2D)            (None, 32, 32, 8)         40        \n",
      "_________________________________________________________________\n",
      "conv2d_2 (Conv2D)            (None, 16, 16, 16)        528       \n",
      "_________________________________________________________________\n",
      "conv2d_3 (Conv2D)            (None, 8, 8, 32)          2080      \n",
      "_________________________________________________________________\n",
      "conv2d_4 (Conv2D)            (None, 4, 4, 64)          8256      \n",
      "_________________________________________________________________\n",
      "conv2d_5 (Conv2D)            (None, 2, 2, 128)         32896     \n",
      "_________________________________________________________________\n",
      "flatten_1 (Flatten)          (None, 512)               0         \n",
      "_________________________________________________________________\n",
      "dense_1 (Dense)              (None, 128)               65664     \n",
      "_________________________________________________________________\n",
      "reshape_1 (Reshape)          (None, 2, 2, 32)          0         \n",
      "_________________________________________________________________\n",
      "conv2d_transpose_1 (Conv2DTr (None, 4, 4, 128)         16512     \n",
      "_________________________________________________________________\n",
      "conv2d_transpose_2 (Conv2DTr (None, 8, 8, 64)          32832     \n",
      "_________________________________________________________________\n",
      "conv2d_transpose_3 (Conv2DTr (None, 16, 16, 32)        8224      \n",
      "_________________________________________________________________\n",
      "conv2d_transpose_4 (Conv2DTr (None, 32, 32, 16)        2064      \n",
      "_________________________________________________________________\n",
      "conv2d_transpose_5 (Conv2DTr (None, 64, 64, 1)         65        \n",
      "=================================================================\n",
      "Total params: 169,161\n",
      "Trainable params: 169,161\n",
      "Non-trainable params: 0\n",
      "_________________________________________________________________\n"
     ]
    }
   ],
   "source": [
    "autoencoder.summary()"
   ]
  },
  {
   "cell_type": "code",
   "execution_count": 12,
   "metadata": {},
   "outputs": [],
   "source": [
    "autoencoder.compile(optimizer='adam', loss='binary_crossentropy')"
   ]
  },
  {
   "cell_type": "code",
   "execution_count": 138,
   "metadata": {
    "scrolled": true
   },
   "outputs": [
    {
     "name": "stdout",
     "output_type": "stream",
     "text": [
      "Epoch 1/50\n",
      "13233/13233 [==============================] - 7s 566us/step - loss: 0.6311\n",
      "Epoch 2/50\n",
      "13233/13233 [==============================] - 7s 538us/step - loss: 0.6311\n",
      "Epoch 3/50\n",
      "13233/13233 [==============================] - 7s 539us/step - loss: 0.6311\n",
      "Epoch 4/50\n",
      "13233/13233 [==============================] - 7s 538us/step - loss: 0.6311\n",
      "Epoch 5/50\n",
      "13233/13233 [==============================] - 7s 536us/step - loss: 0.6311\n",
      "Epoch 6/50\n",
      "13233/13233 [==============================] - 7s 535us/step - loss: 0.6311\n",
      "Epoch 7/50\n",
      "13233/13233 [==============================] - 7s 537us/step - loss: 0.6311\n",
      "Epoch 8/50\n",
      "13233/13233 [==============================] - 7s 539us/step - loss: 0.6311\n",
      "Epoch 9/50\n",
      "13233/13233 [==============================] - 7s 538us/step - loss: 0.6311\n",
      "Epoch 10/50\n",
      "13233/13233 [==============================] - 7s 536us/step - loss: 0.6311\n",
      "Epoch 11/50\n",
      "13233/13233 [==============================] - 7s 539us/step - loss: 0.6311\n",
      "Epoch 12/50\n",
      "13233/13233 [==============================] - 7s 537us/step - loss: 0.6311\n",
      "Epoch 13/50\n",
      "13233/13233 [==============================] - 7s 542us/step - loss: 0.6311\n",
      "Epoch 14/50\n",
      "13233/13233 [==============================] - 7s 538us/step - loss: 0.6311\n",
      "Epoch 15/50\n",
      "13233/13233 [==============================] - 7s 538us/step - loss: 0.6311\n",
      "Epoch 16/50\n",
      "13233/13233 [==============================] - 7s 537us/step - loss: 0.6311\n",
      "Epoch 17/50\n",
      "13233/13233 [==============================] - 7s 537us/step - loss: 0.6311\n",
      "Epoch 18/50\n",
      "13233/13233 [==============================] - 7s 535us/step - loss: 0.6311\n",
      "Epoch 19/50\n",
      "13233/13233 [==============================] - 7s 532us/step - loss: 0.6311\n",
      "Epoch 20/50\n",
      "13233/13233 [==============================] - 7s 534us/step - loss: 0.6311\n",
      "Epoch 21/50\n",
      "13233/13233 [==============================] - 7s 537us/step - loss: 0.6311\n",
      "Epoch 22/50\n",
      "13233/13233 [==============================] - 7s 535us/step - loss: 0.6311\n",
      "Epoch 23/50\n",
      "13233/13233 [==============================] - 7s 537us/step - loss: 0.6311\n",
      "Epoch 24/50\n",
      "13233/13233 [==============================] - 7s 536us/step - loss: 0.6311\n",
      "Epoch 25/50\n",
      "13233/13233 [==============================] - 7s 535us/step - loss: 0.6311\n",
      "Epoch 26/50\n",
      "13233/13233 [==============================] - 7s 532us/step - loss: 0.6311\n",
      "Epoch 27/50\n",
      "13233/13233 [==============================] - 7s 538us/step - loss: 0.6311\n",
      "Epoch 28/50\n",
      "13233/13233 [==============================] - 7s 543us/step - loss: 0.6311\n",
      "Epoch 29/50\n",
      "13233/13233 [==============================] - 7s 539us/step - loss: 0.6311\n",
      "Epoch 30/50\n",
      "13233/13233 [==============================] - 7s 542us/step - loss: 0.6311\n",
      "Epoch 31/50\n",
      "13233/13233 [==============================] - 7s 539us/step - loss: 0.6311\n",
      "Epoch 32/50\n",
      "13233/13233 [==============================] - 7s 536us/step - loss: 0.6311\n",
      "Epoch 33/50\n",
      "13233/13233 [==============================] - 7s 535us/step - loss: 0.6311\n",
      "Epoch 34/50\n",
      "13233/13233 [==============================] - 7s 536us/step - loss: 0.6311\n",
      "Epoch 35/50\n",
      "13233/13233 [==============================] - 7s 537us/step - loss: 0.6311\n",
      "Epoch 36/50\n",
      "13233/13233 [==============================] - 7s 536us/step - loss: 0.6311\n",
      "Epoch 37/50\n",
      "13233/13233 [==============================] - 7s 536us/step - loss: 0.6311\n",
      "Epoch 38/50\n",
      "13233/13233 [==============================] - 7s 536us/step - loss: 0.6311\n",
      "Epoch 39/50\n",
      "13233/13233 [==============================] - 7s 536us/step - loss: 0.6311\n",
      "Epoch 40/50\n",
      "13233/13233 [==============================] - 7s 533us/step - loss: 0.6311\n",
      "Epoch 41/50\n",
      "13233/13233 [==============================] - 7s 535us/step - loss: 0.6311\n",
      "Epoch 42/50\n",
      "13233/13233 [==============================] - 7s 534us/step - loss: 0.6311\n",
      "Epoch 43/50\n",
      "13233/13233 [==============================] - 7s 531us/step - loss: 0.6311\n",
      "Epoch 44/50\n",
      "13233/13233 [==============================] - 7s 534us/step - loss: 0.6311\n",
      "Epoch 45/50\n",
      "13233/13233 [==============================] - 7s 529us/step - loss: 0.6311\n",
      "Epoch 46/50\n",
      "13233/13233 [==============================] - 7s 532us/step - loss: 0.6311\n",
      "Epoch 47/50\n",
      "13233/13233 [==============================] - 7s 531us/step - loss: 0.6311\n",
      "Epoch 48/50\n",
      "13233/13233 [==============================] - 7s 532us/step - loss: 0.6311\n",
      "Epoch 49/50\n",
      "13233/13233 [==============================] - 7s 538us/step - loss: 0.6311\n",
      "Epoch 50/50\n",
      "13233/13233 [==============================] - 7s 540us/step - loss: 0.6311\n"
     ]
    },
    {
     "data": {
      "text/plain": [
       "<keras.callbacks.History at 0x7a7e9630>"
      ]
     },
     "execution_count": 138,
     "metadata": {},
     "output_type": "execute_result"
    }
   ],
   "source": [
    "autoencoder.fit(faces, faces, epochs=50)"
   ]
  },
  {
   "cell_type": "markdown",
   "metadata": {},
   "source": [
    "# Save model"
   ]
  },
  {
   "cell_type": "code",
   "execution_count": 151,
   "metadata": {},
   "outputs": [],
   "source": [
    "# save weights\n",
    "encoder.save_weights('encoder_weights_mri.h5')\n",
    "decoder.save_weights('decoder_weights_mri.h5')\n",
    "\n",
    "# save architecture\n",
    "json_encoder = encoder.to_json()\n",
    "json_decoder = decoder.to_json()\n",
    "\n",
    "with open('encoder_mri_json.txt', 'w') as file:\n",
    "    file.write(json_encoder)\n",
    "\n",
    "with open('decoder_mri_json.txt', 'w') as file:\n",
    "    file.write(json_decoder)"
   ]
  }
 ],
 "metadata": {
  "kernelspec": {
   "display_name": "Python 3",
   "language": "python",
   "name": "python3"
  },
  "language_info": {
   "codemirror_mode": {
    "name": "ipython",
    "version": 3
   },
   "file_extension": ".py",
   "mimetype": "text/x-python",
   "name": "python",
   "nbconvert_exporter": "python",
   "pygments_lexer": "ipython3",
   "version": "3.6.7"
  },
  "latex_envs": {
   "LaTeX_envs_menu_present": true,
   "autocomplete": true,
   "bibliofile": "biblio.bib",
   "cite_by": "apalike",
   "current_citInitial": 1,
   "eqLabelWithNumbers": true,
   "eqNumInitial": 1,
   "hotkeys": {
    "equation": "Ctrl-E",
    "itemize": "Ctrl-I"
   },
   "labels_anchors": false,
   "latex_user_defs": false,
   "report_style_numbering": false,
   "user_envs_cfg": false
  }
 },
 "nbformat": 4,
 "nbformat_minor": 2
}
