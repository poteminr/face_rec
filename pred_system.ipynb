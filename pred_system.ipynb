{
 "cells": [
  {
   "cell_type": "code",
   "execution_count": 2,
   "metadata": {},
   "outputs": [],
   "source": [
    "import cv2\n",
    "import matplotlib.pyplot as plt\n",
    "import numpy as np\n",
    "import pandas as pd\n",
    "import glob\n",
    "import matplotlib.image as mpimg\n",
    "from sklearn.metrics import precision_score,recall_score,accuracy_score,f1_score\n",
    "import dlib\n",
    "%matplotlib inline"
   ]
  },
  {
   "cell_type": "code",
   "execution_count": 3,
   "metadata": {},
   "outputs": [
    {
     "name": "stderr",
     "output_type": "stream",
     "text": [
      "Using TensorFlow backend.\n"
     ]
    }
   ],
   "source": [
    "import face_rec"
   ]
  },
  {
   "cell_type": "markdown",
   "metadata": {},
   "source": [
    "# Input image"
   ]
  },
  {
   "cell_type": "code",
   "execution_count": 4,
   "metadata": {},
   "outputs": [],
   "source": [
    "gref1 = cv2.imread('photo/gref_test.png')\n",
    "ya = cv2.imread('photo/data.jpg')\n",
    "gref2 = cv2.imread('photo/gref2.jpg')\n",
    "gref3 = cv2.imread('photo/gref3.jpg')\n",
    "puten = cv2.imread('photo/puten.jpg')\n",
    "putin2 = cv2.imread('photo/putin2.jpg')\n",
    "ya2 = cv2.imread('photo/ya.JPG')\n",
    "medv = cv2.imread('photo/medv.jpg')\n",
    "ebn = cv2.imread('photo/ebn.jpeg')\n",
    "ebn2 = cv2.imread('photo/ebn2.jpg')\n",
    "medv2 = cv2.imread('photo/medv1.jpg')\n",
    "\n",
    "nabiu1 = cv2.imread('photo/nabiu.jpg')\n",
    "nabiu2 = cv2.imread('photo/nabiu2.jpg')\n",
    "\n",
    "ebn_bill = cv2.imread('photo/ebn_bill.jpg')\n",
    "clinton = cv2.imread('photo/clinton.jpg')\n",
    "\n",
    "clinton_face = cv2.imread('photo/clinton_face.jpeg')"
   ]
  },
  {
   "cell_type": "markdown",
   "metadata": {},
   "source": [
    "# Photo recognition system"
   ]
  },
  {
   "cell_type": "code",
   "execution_count": 5,
   "metadata": {
    "scrolled": true
   },
   "outputs": [
    {
     "name": "stdout",
     "output_type": "stream",
     "text": [
      "[True, False]\n",
      "Boris\n"
     ]
    }
   ],
   "source": [
    "from PIL import Image, ImageDraw ,ImageFont , ImageColor\n",
    "fnt = ImageFont.truetype('Pillow/Tests/fonts/DejaVuSans.ttf', 10)\n",
    "\n",
    "\n",
    "\n",
    "clinton_encoded = face_rec.face_embedding(clinton_face)[0]\n",
    "\n",
    "ebn_encoded = face_rec.face_embedding(ebn)\n",
    "\n",
    "# Делаем array с известными фотками и пишем имена\n",
    "known_face_encodings = [ebn_encoded,clinton_encoded]\n",
    "known_face_names = ['Boris','Hillary']\n",
    "\n",
    "# Загружаем общую пикчу, где нужно детектить\n",
    "unknown_image = ebn2\n",
    "\n",
    "#  Ищем все лица в пикче и энкодим\n",
    "face_encodings = face_rec.face_embedding(unknown_image)\n",
    "faces_loc = face_rec.face_locations(unknown_image)\n",
    "\n",
    "\n",
    "#Конвертим пикчку в pil формат, чтобы поверх рисовать боксы\n",
    "pil_image = Image.fromarray(unknown_image)\n",
    "\n",
    "draw = ImageDraw.Draw(pil_image)\n",
    "\n",
    "#чекаем на совпадение с известным лицом\n",
    "for (top, right, bottom, left), face_encoding in zip(faces_loc, face_encodings):\n",
    "    # чекаем на совпадение с известным лицом\n",
    "    matches = face_rec.compare_faces(known_face_encodings, face_encoding)\n",
    "    print(matches)\n",
    "    \n",
    "    name = \"Unknown\"\n",
    "    if True in matches:\n",
    "        first_match_index = matches.index(True)\n",
    "        name = known_face_names[first_match_index]\n",
    "        print(name)\n",
    "\n",
    "\n",
    "    draw.rectangle(((left,top), (right, bottom)), outline=(0,0,255))\n",
    "    # пишем лэйбл\n",
    "    text_width, text_height = draw.textsize(name)\n",
    "    draw.rectangle(((left, bottom - text_height - 10), (right, bottom)), fill=(0, 0, 255), outline=(0, 0, 255))\n",
    "    draw.text((left + 6, bottom - text_height - 5), name,font=fnt,fill=(255, 255, 255, 255))\n",
    "\n",
    "pil_image.show()"
   ]
  },
  {
   "cell_type": "code",
   "execution_count": 6,
   "metadata": {},
   "outputs": [
    {
     "data": {
      "text/plain": [
       "34.581703"
      ]
     },
     "execution_count": 6,
     "metadata": {},
     "output_type": "execute_result"
    }
   ],
   "source": [
    "face_rec.distance(face_encodings,ebn_encoded)"
   ]
  },
  {
   "cell_type": "markdown",
   "metadata": {},
   "source": [
    "# Accuracy"
   ]
  },
  {
   "cell_type": "code",
   "execution_count": 7,
   "metadata": {},
   "outputs": [],
   "source": [
    "from keras.models import model_from_json\n",
    "\n",
    "json_decoder = ''\n",
    "json_encoder = ''\n",
    "\n",
    "with open('face_rec-master/models/encoder_json_32e.txt', 'r') as file:\n",
    "    json_encoder = file.readline()\n",
    "\n",
    "with open('face_rec-master/models/decoder_json_32e.txt', 'r') as file:\n",
    "    json_decoder = file.readline()\n",
    "\n",
    "D = model_from_json(json_decoder)\n",
    "D.load_weights('face_rec-master/models/decoder_weights_32e.h5')\n",
    "\n",
    "E = model_from_json(json_encoder)\n",
    "E.load_weights('face_rec-master/models/encoder_weights_32e.h5')"
   ]
  },
  {
   "cell_type": "code",
   "execution_count": null,
   "metadata": {},
   "outputs": [],
   "source": [
    "%%time \n",
    "embedded = []\n",
    "metadata = []\n",
    "for img in glob.glob('./images/*/*.jpg'):\n",
    "    \n",
    "    n = cv2.imread(img)\n",
    "    face = prp.face_embedding(n)\n",
    "    if face is not None:\n",
    "            metadata.append(img.split('/')[2])\n",
    "            embedded.append(face)\n",
    "\n",
    "embedded = np.array(embedded)\n",
    "metadata = np.array(metadata)"
   ]
  },
  {
   "cell_type": "code",
   "execution_count": 11,
   "metadata": {},
   "outputs": [
    {
     "name": "stdout",
     "output_type": "stream",
     "text": [
      "CPU times: user 3.95 s, sys: 23.2 ms, total: 3.97 s\n",
      "Wall time: 3.92 s\n"
     ]
    }
   ],
   "source": [
    "%%time \n",
    "embedded = []\n",
    "metadata = []\n",
    "for img in glob.glob('./images/*/*.jpg'):\n",
    "    \n",
    "    n = cv2.imread(img)\n",
    "    try:\n",
    "        face = prp.face_embedding(n)\n",
    "        metadata.append(img.split('/')[2])\n",
    "        embedded.append(face)\n",
    "    except Exception:\n",
    "        pass\n",
    "embedded = np.array(embedded)\n",
    "metadata = np.array(metadata)"
   ]
  },
  {
   "cell_type": "code",
   "execution_count": 12,
   "metadata": {
    "scrolled": false
   },
   "outputs": [
    {
     "data": {
      "image/png": "[encoded data removed]",
      "text/plain": [
       "<Figure size 432x288 with 1 Axes>"
      ]
     },
     "metadata": {
      "needs_background": "light"
     },
     "output_type": "display_data"
    }
   ],
   "source": [
    "from sklearn.metrics import f1_score, accuracy_score\n",
    "\n",
    "distances = [] \n",
    "identical = [] \n",
    "\n",
    "num = len(metadata)\n",
    "for i in range(num - 1):\n",
    "    for j in range(1, num):\n",
    "        #print(i,j)\n",
    "        distances.append(prp.distance(embedded[i], embedded[j]))\n",
    "        identical.append(1 if metadata[i] == metadata[j] else 0)\n",
    "\n",
    "        \n",
    "distances = np.array(distances)\n",
    "identical = np.array(identical)\n",
    "\n",
    "thresholds = np.arange(7, 100, 2.5)\n",
    "\n",
    "f1_scores = [f1_score(identical, distances < t) for t in thresholds]\n",
    "acc_scores = [accuracy_score(identical, distances < t) for t in thresholds]\n",
    "\n",
    "precision = [precision_score(identical, distances < t) for t in thresholds] \n",
    "recall = [recall_score(identical, distances < t) for t in thresholds]\n",
    "\n",
    "opt_idx = np.argmax(f1_scores)\n",
    "\n",
    "opt_tau = thresholds[opt_idx]\n",
    "\n",
    "opt_acc = accuracy_score(identical, distances < opt_tau)\n",
    "\n",
    "plt.plot(thresholds, f1_scores, label='F1 score');\n",
    "plt.plot(thresholds, acc_scores, label='Accuracy');\n",
    "plt.plot(thresholds, precision, label='Precision');\n",
    "plt.plot(thresholds, recall, label='Recall');\n",
    "\n",
    "plt.axvline(x=opt_tau, linestyle='--', lw=1, c='lightgrey', label='Threshold')\n",
    "plt.title(f'Accuracy at threshold {opt_tau:.2f} = {opt_acc:.3f}');\n",
    "plt.xlabel('Distance threshold')\n",
    "plt.legend();"
   ]
  }
 ],
 "metadata": {
  "kernelspec": {
   "display_name": "Python 3",
   "language": "python",
   "name": "python3"
  }
 },
 "nbformat": 4,
 "nbformat_minor": 2
}
