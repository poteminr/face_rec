{
 "cells": [
  {
   "cell_type": "code",
   "execution_count": 18,
   "metadata": {
    "scrolled": true
   },
   "outputs": [],
   "source": [
    "from keras.layers import Conv2D, Conv2DTranspose, Flatten, Input, Dense, Reshape\n",
    "from keras.layers.advanced_activations import LeakyReLU, PReLU\n",
    "from keras.datasets import mnist\n",
    "from keras import Model\n",
    "import numpy as np\n",
    "import matplotlib.pyplot as plt \n",
    "import matplotlib.image as mpimg\n",
    "import glob\n",
    "import cv2\n",
    "%matplotlib inline"
   ]
  },
  {
   "cell_type": "markdown",
   "metadata": {},
   "source": [
    "# Train Data"
   ]
  },
  {
   "cell_type": "code",
   "execution_count": 2,
   "metadata": {},
   "outputs": [
    {
     "name": "stdout",
     "output_type": "stream",
     "text": [
      "Point 1\n",
      "Wall time: 2min 13s\n"
     ]
    }
   ],
   "source": [
    "%%time \n",
    "img_size = 64\n",
    "\n",
    "samples = glob.glob('./lfwcrop_grey/faces/*')\n",
    "data = []\n",
    "print('Point 1')\n",
    "for s in samples:\n",
    "    img = mpimg.imread(s)\n",
    "    data.append(np.expand_dims(img, 0))"
   ]
  },
  {
   "cell_type": "code",
   "execution_count": 3,
   "metadata": {},
   "outputs": [
    {
     "name": "stdout",
     "output_type": "stream",
     "text": [
      "Wall time: 4.12 s\n"
     ]
    }
   ],
   "source": [
    "%%time \n",
    "data2 = []\n",
    "for img in glob.glob(\"./FilmsFaceDatabase/s*/*.pgm\"):\n",
    "    img_read = mpimg.imread(img)\n",
    "    img_read = cv2.resize(img_read, (64, 64))\n",
    "    data2.append(np.expand_dims(img_read, 0))"
   ]
  },
  {
   "cell_type": "code",
   "execution_count": 4,
   "metadata": {},
   "outputs": [
    {
     "name": "stdout",
     "output_type": "stream",
     "text": [
      "Wall time: 21.2 s\n"
     ]
    }
   ],
   "source": [
    "%%time \n",
    "data3 = []\n",
    "for img in glob.glob(\"./ufi-cropped/train/s*/*.pgm\"):\n",
    "    n = mpimg.imread(img)\n",
    "    n = cv2.resize(n, (64, 64))\n",
    "    data3.append(np.expand_dims(n,0))"
   ]
  },
  {
   "cell_type": "code",
   "execution_count": 25,
   "metadata": {},
   "outputs": [
    {
     "name": "stdout",
     "output_type": "stream",
     "text": [
      "Wall time: 32.6 s\n"
     ]
    }
   ],
   "source": [
    "%%time \n",
    "data4 = []\n",
    "for img in glob.glob(\"./UTKFace/*\"):\n",
    "    n = mpimg.imread(img)\n",
    "    \n",
    "    n = cv2.cvtColor(n, cv2.COLOR_BGR2RGB) # конвертируем изображение в RGB\n",
    "    n = cv2.cvtColor(n, cv2.COLOR_RGB2GRAY) # делаем изображение ЧБ\n",
    "    \n",
    "    n = cv2.resize(n, (64, 64))\n",
    "    data4.append(np.expand_dims(n,0))"
   ]
  },
  {
   "cell_type": "code",
   "execution_count": 28,
   "metadata": {},
   "outputs": [],
   "source": [
    "full_data = data+data2+data3+data4"
   ]
  },
  {
   "cell_type": "code",
   "execution_count": 29,
   "metadata": {},
   "outputs": [],
   "source": [
    "faces = np.concatenate(full_data, axis=0)"
   ]
  },
  {
   "cell_type": "code",
   "execution_count": 30,
   "metadata": {},
   "outputs": [
    {
     "data": {
      "text/plain": [
       "(37094, 64, 64)"
      ]
     },
     "execution_count": 30,
     "metadata": {},
     "output_type": "execute_result"
    }
   ],
   "source": [
    "faces.shape"
   ]
  },
  {
   "cell_type": "code",
   "execution_count": 31,
   "metadata": {},
   "outputs": [],
   "source": [
    "faces = np.expand_dims(faces, -1)"
   ]
  },
  {
   "cell_type": "code",
   "execution_count": 32,
   "metadata": {},
   "outputs": [],
   "source": [
    "# prepare data\n",
    "faces = faces / 255."
   ]
  },
  {
   "cell_type": "code",
   "execution_count": 33,
   "metadata": {},
   "outputs": [
    {
     "data": {
      "text/plain": [
       "(37094, 64, 64, 1)"
      ]
     },
     "execution_count": 33,
     "metadata": {},
     "output_type": "execute_result"
    }
   ],
   "source": [
    "faces.shape"
   ]
  },
  {
   "cell_type": "markdown",
   "metadata": {},
   "source": [
    "#### Fit autoencoder"
   ]
  },
  {
   "cell_type": "code",
   "execution_count": 34,
   "metadata": {},
   "outputs": [],
   "source": [
    "# encoder\n",
    "input_ = Input((64, 64, 1)) # 64\n",
    "x = Conv2D(filters=8, kernel_size=2, strides=2, activation='relu')(input_) # 32\n",
    "x = Conv2D(filters=16, kernel_size=2, strides=2, activation='relu')(x) # 16\n",
    "x = Conv2D(filters=32, kernel_size=2, strides=2, activation='relu')(x) # 8\n",
    "x = Conv2D(filters=64, kernel_size=2, strides=2, activation='relu')(x) # 4\n",
    "x = Conv2D(filters=128, kernel_size=2, strides=2, activation='relu')(x) # 2\n",
    "flat = Flatten()(x)\n",
    "latent = Dense(128)(flat)\n",
    "\n",
    "# decoder\n",
    "reshape = Reshape((2,2,32)) #2\n",
    "conv_2t_1 = Conv2DTranspose(filters=128, kernel_size=2, strides=2, activation='relu') # 4\n",
    "conv_2t_2 = Conv2DTranspose(filters=64, kernel_size=2, strides=2, activation='relu') # 8\n",
    "conv_2t_3 = Conv2DTranspose(filters=32, kernel_size=2, strides=2, activation='relu') # 16\n",
    "conv_2t_4 = Conv2DTranspose(filters=16, kernel_size=2, strides=2, activation='relu') # 32\n",
    "conv_2t_5 = Conv2DTranspose(filters=1, kernel_size=2, strides=2, activation='sigmoid') # 64\n",
    "\n",
    "x = reshape(latent)\n",
    "x = conv_2t_1(x)\n",
    "x = conv_2t_2(x)\n",
    "x = conv_2t_3(x)\n",
    "x = conv_2t_4(x)\n",
    "decoded = conv_2t_5(x) # 64\n",
    "\n",
    "autoencoder = Model(input_, decoded)\n",
    "encoder = Model(input_, latent)\n",
    "\n",
    "decoder_input = Input((128,))\n",
    "x_ = reshape(decoder_input)\n",
    "x_ = conv_2t_1(x_)\n",
    "x_ = conv_2t_2(x_)\n",
    "x_ = conv_2t_3(x_)\n",
    "x_ = conv_2t_4(x_)\n",
    "decoded_ = conv_2t_5(x_) # 64\n",
    "decoder = Model(decoder_input, decoded_)"
   ]
  },
  {
   "cell_type": "code",
   "execution_count": 35,
   "metadata": {},
   "outputs": [
    {
     "name": "stdout",
     "output_type": "stream",
     "text": [
      "_________________________________________________________________\n",
      "Layer (type)                 Output Shape              Param #   \n",
      "=================================================================\n",
      "input_7 (InputLayer)         (None, 64, 64, 1)         0         \n",
      "_________________________________________________________________\n",
      "conv2d_13 (Conv2D)           (None, 32, 32, 8)         40        \n",
      "_________________________________________________________________\n",
      "conv2d_14 (Conv2D)           (None, 16, 16, 16)        528       \n",
      "_________________________________________________________________\n",
      "conv2d_15 (Conv2D)           (None, 8, 8, 32)          2080      \n",
      "_________________________________________________________________\n",
      "conv2d_16 (Conv2D)           (None, 4, 4, 64)          8256      \n",
      "_________________________________________________________________\n",
      "conv2d_17 (Conv2D)           (None, 2, 2, 128)         32896     \n",
      "_________________________________________________________________\n",
      "flatten_3 (Flatten)          (None, 512)               0         \n",
      "_________________________________________________________________\n",
      "dense_3 (Dense)              (None, 128)               65664     \n",
      "_________________________________________________________________\n",
      "reshape_3 (Reshape)          (None, 2, 2, 32)          0         \n",
      "_________________________________________________________________\n",
      "conv2d_transpose_11 (Conv2DT (None, 4, 4, 128)         16512     \n",
      "_________________________________________________________________\n",
      "conv2d_transpose_12 (Conv2DT (None, 8, 8, 64)          32832     \n",
      "_________________________________________________________________\n",
      "conv2d_transpose_13 (Conv2DT (None, 16, 16, 32)        8224      \n",
      "_________________________________________________________________\n",
      "conv2d_transpose_14 (Conv2DT (None, 32, 32, 16)        2064      \n",
      "_________________________________________________________________\n",
      "conv2d_transpose_15 (Conv2DT (None, 64, 64, 1)         65        \n",
      "=================================================================\n",
      "Total params: 169,161\n",
      "Trainable params: 169,161\n",
      "Non-trainable params: 0\n",
      "_________________________________________________________________\n"
     ]
    }
   ],
   "source": [
    "autoencoder.summary()"
   ]
  },
  {
   "cell_type": "code",
   "execution_count": 36,
   "metadata": {},
   "outputs": [],
   "source": [
    "autoencoder.compile(optimizer='adam', loss='binary_crossentropy')"
   ]
  },
  {
   "cell_type": "code",
   "execution_count": 40,
   "metadata": {
    "scrolled": true
   },
   "outputs": [
    {
     "name": "stdout",
     "output_type": "stream",
     "text": [
      "Epoch 1/10\n",
      "37094/37094 [==============================] - 21s 573us/step - loss: 0.5981\n",
      "Epoch 2/10\n",
      "37094/37094 [==============================] - 23s 615us/step - loss: 0.5981\n",
      "Epoch 3/10\n",
      "37094/37094 [==============================] - 21s 575us/step - loss: 0.5981\n",
      "Epoch 4/10\n",
      "37094/37094 [==============================] - 23s 608us/step - loss: 0.5981\n",
      "Epoch 5/10\n",
      "37094/37094 [==============================] - 21s 571us/step - loss: 0.5981\n",
      "Epoch 6/10\n",
      "37094/37094 [==============================] - 21s 564us/step - loss: 0.5981\n",
      "Epoch 7/10\n",
      "37094/37094 [==============================] - 21s 565us/step - loss: 0.5981\n",
      "Epoch 8/10\n",
      "37094/37094 [==============================] - 21s 567us/step - loss: 0.5981\n",
      "Epoch 9/10\n",
      "37094/37094 [==============================] - 21s 563us/step - loss: 0.5981\n",
      "Epoch 10/10\n",
      "37094/37094 [==============================] - 21s 565us/step - loss: 0.5981\n"
     ]
    },
    {
     "data": {
      "text/plain": [
       "<keras.callbacks.History at 0x1d40bb00>"
      ]
     },
     "execution_count": 40,
     "metadata": {},
     "output_type": "execute_result"
    }
   ],
   "source": [
    "autoencoder.fit(faces, faces, epochs=10)"
   ]
  },
  {
   "cell_type": "markdown",
   "metadata": {},
   "source": [
    "# Save model"
   ]
  },
  {
   "cell_type": "code",
   "execution_count": 41,
   "metadata": {},
   "outputs": [],
   "source": [
    "# save weights\n",
    "encoder.save_weights('encoder_weights_mri.h5')\n",
    "decoder.save_weights('decoder_weights_mri.h5')\n",
    "\n",
    "# save architecture\n",
    "json_encoder = encoder.to_json()\n",
    "json_decoder = decoder.to_json()\n",
    "\n",
    "with open('encoder_mri_json.txt', 'w') as file:\n",
    "    file.write(json_encoder)\n",
    "\n",
    "with open('decoder_mri_json.txt', 'w') as file:\n",
    "    file.write(json_decoder)"
   ]
  }
 ],
 "metadata": {
  "kernelspec": {
   "display_name": "Python 3",
   "language": "python",
   "name": "python3"
  },
  "language_info": {
   "codemirror_mode": {
    "name": "ipython",
    "version": 3
   },
   "file_extension": ".py",
   "mimetype": "text/x-python",
   "name": "python",
   "nbconvert_exporter": "python",
   "pygments_lexer": "ipython3",
   "version": "3.6.7"
  },
  "latex_envs": {
   "LaTeX_envs_menu_present": true,
   "autocomplete": true,
   "bibliofile": "biblio.bib",
   "cite_by": "apalike",
   "current_citInitial": 1,
   "eqLabelWithNumbers": true,
   "eqNumInitial": 1,
   "hotkeys": {
    "equation": "Ctrl-E",
    "itemize": "Ctrl-I"
   },
   "labels_anchors": false,
   "latex_user_defs": false,
   "report_style_numbering": false,
   "user_envs_cfg": false
  }
 },
 "nbformat": 4,
 "nbformat_minor": 2
}
